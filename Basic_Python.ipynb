{
  "nbformat": 4,
  "nbformat_minor": 0,
  "metadata": {
    "colab": {
      "provenance": []
    },
    "kernelspec": {
      "name": "python3",
      "display_name": "Python 3"
    },
    "language_info": {
      "name": "python"
    }
  },
  "cells": [
    {
      "cell_type": "code",
      "execution_count": null,
      "metadata": {
        "id": "pmmYG_KV4A0P"
      },
      "outputs": [],
      "source": []
    },
    {
      "cell_type": "markdown",
      "source": [
        "Basic Python for Machine Learning"
      ],
      "metadata": {
        "id": "kYT_ZuvX4IrE"
      }
    },
    {
      "cell_type": "code",
      "source": [
        "print('Hello Zeeshan Khattak')"
      ],
      "metadata": {
        "colab": {
          "base_uri": "https://localhost:8080/"
        },
        "id": "KOKd4SHN4Mo0",
        "outputId": "8ff3c87e-f647-41f5-e485-9e4c432d4576"
      },
      "execution_count": 1,
      "outputs": [
        {
          "output_type": "stream",
          "name": "stdout",
          "text": [
            "Hello Zeeshan Khattak\n"
          ]
        }
      ]
    },
    {
      "cell_type": "code",
      "source": [
        "print(''' My name is Zeeshan Khattak . i belong to Distric Karak Khayber pukhton Khawa .\n",
        "i did my Bachelor in Computer from Abdul Wali khan University Mardan .\n",
        "By Profesion I am Junior Data Scientist\n",
        "''')"
      ],
      "metadata": {
        "colab": {
          "base_uri": "https://localhost:8080/"
        },
        "id": "d51u9e2G4S1j",
        "outputId": "af637417-8b21-4f14-98c6-71ef23b0f439"
      },
      "execution_count": 2,
      "outputs": [
        {
          "output_type": "stream",
          "name": "stdout",
          "text": [
            " My name is Zeeshan Khattak . i belong to Distric Karak Khayber pukhton Khawa .\n",
            "i did my Bachelor in Computer from Abdul Wali khan University Mardan .\n",
            "By Profesion I am Junior Data Scientist \n",
            "\n"
          ]
        }
      ]
    },
    {
      "cell_type": "markdown",
      "source": [
        "#print Function"
      ],
      "metadata": {
        "id": "ZObehGlO86vq"
      }
    },
    {
      "cell_type": "code",
      "source": [
        "print('Machine Learning Hands on course ')"
      ],
      "metadata": {
        "colab": {
          "base_uri": "https://localhost:8080/"
        },
        "id": "Bg5q88Gk5Dqr",
        "outputId": "ffbbcb9c-7bbd-4c04-d26c-f584f6c2db02"
      },
      "execution_count": 3,
      "outputs": [
        {
          "output_type": "stream",
          "name": "stdout",
          "text": [
            "Machine Learning Hands on course \n"
          ]
        }
      ]
    },
    {
      "cell_type": "code",
      "source": [
        "print(\"Machine Learning \" + 'Projects ')"
      ],
      "metadata": {
        "colab": {
          "base_uri": "https://localhost:8080/"
        },
        "id": "Jx2WCd1r9COl",
        "outputId": "a6ccc197-61f9-4017-9602-0b6cbda8513b"
      },
      "execution_count": 4,
      "outputs": [
        {
          "output_type": "stream",
          "name": "stdout",
          "text": [
            "Machine Learning Projects \n"
          ]
        }
      ]
    },
    {
      "cell_type": "code",
      "source": [
        "print(10)"
      ],
      "metadata": {
        "colab": {
          "base_uri": "https://localhost:8080/"
        },
        "id": "Zgy4Oo5J9Juj",
        "outputId": "902c5208-805c-4173-cc91-d49a693d6e8f"
      },
      "execution_count": 5,
      "outputs": [
        {
          "output_type": "stream",
          "name": "stdout",
          "text": [
            "10\n"
          ]
        }
      ]
    },
    {
      "cell_type": "code",
      "source": [
        "print(9+10)"
      ],
      "metadata": {
        "colab": {
          "base_uri": "https://localhost:8080/"
        },
        "id": "dfW_Rv0K9Tmv",
        "outputId": "9abcf070-7465-4922-dd27-a2e5fd9897e7"
      },
      "execution_count": 6,
      "outputs": [
        {
          "output_type": "stream",
          "name": "stdout",
          "text": [
            "19\n"
          ]
        }
      ]
    },
    {
      "cell_type": "markdown",
      "source": [
        "#Basic Data Types:\n",
        "\n",
        "\n",
        "1.   int\n",
        "2.   Float\n",
        "3.   Str\n",
        "\n",
        "\n",
        "\n",
        "\n",
        "\n"
      ],
      "metadata": {
        "id": "0g0sWKqo97Xc"
      }
    },
    {
      "cell_type": "code",
      "source": [
        "type(4)"
      ],
      "metadata": {
        "colab": {
          "base_uri": "https://localhost:8080/"
        },
        "id": "39zCJAoX9VrM",
        "outputId": "1ae9580f-faa3-402d-a9b9-e34a4cd91558"
      },
      "execution_count": 7,
      "outputs": [
        {
          "output_type": "execute_result",
          "data": {
            "text/plain": [
              "int"
            ]
          },
          "metadata": {},
          "execution_count": 7
        }
      ]
    },
    {
      "cell_type": "code",
      "source": [
        "type(1.8)"
      ],
      "metadata": {
        "colab": {
          "base_uri": "https://localhost:8080/"
        },
        "id": "BOVVzKTt-Ovx",
        "outputId": "2644fbe6-e0e4-4b45-bbda-0d156a1c45ce"
      },
      "execution_count": 8,
      "outputs": [
        {
          "output_type": "execute_result",
          "data": {
            "text/plain": [
              "float"
            ]
          },
          "metadata": {},
          "execution_count": 8
        }
      ]
    },
    {
      "cell_type": "code",
      "source": [
        "type('Zeeshan Khattak')"
      ],
      "metadata": {
        "colab": {
          "base_uri": "https://localhost:8080/"
        },
        "id": "nW0dOcvr-Ql3",
        "outputId": "06a119fb-eb19-4f53-9f64-bb89e57842be"
      },
      "execution_count": 9,
      "outputs": [
        {
          "output_type": "execute_result",
          "data": {
            "text/plain": [
              "str"
            ]
          },
          "metadata": {},
          "execution_count": 9
        }
      ]
    },
    {
      "cell_type": "code",
      "source": [
        "type(True)"
      ],
      "metadata": {
        "colab": {
          "base_uri": "https://localhost:8080/"
        },
        "id": "ykHEzlhG-TaA",
        "outputId": "68d7ad64-e341-4aa4-af88-b9d465171e4a"
      },
      "execution_count": 10,
      "outputs": [
        {
          "output_type": "execute_result",
          "data": {
            "text/plain": [
              "bool"
            ]
          },
          "metadata": {},
          "execution_count": 10
        }
      ]
    },
    {
      "cell_type": "markdown",
      "source": [
        "Constant\n",
        " &\n",
        "variables"
      ],
      "metadata": {
        "id": "0xkY1JmY-ecT"
      }
    },
    {
      "cell_type": "code",
      "source": [
        "super_hero='Iron Man'  # we can change the value of variable\n",
        "print(super_hero)"
      ],
      "metadata": {
        "colab": {
          "base_uri": "https://localhost:8080/"
        },
        "id": "YzYDAn84-WHy",
        "outputId": "d9b34de6-cd0f-467c-96d6-3b27065842f8"
      },
      "execution_count": 13,
      "outputs": [
        {
          "output_type": "stream",
          "name": "stdout",
          "text": [
            "Iron Man\n"
          ]
        }
      ]
    },
    {
      "cell_type": "code",
      "source": [
        "super_hero='Captain America'\n",
        "print(super_hero)"
      ],
      "metadata": {
        "colab": {
          "base_uri": "https://localhost:8080/"
        },
        "id": "yCfVY1kt-1gs",
        "outputId": "907f0ed4-8725-42e8-b144-f4f5895d5c06"
      },
      "execution_count": 14,
      "outputs": [
        {
          "output_type": "stream",
          "name": "stdout",
          "text": [
            "Captain America\n"
          ]
        }
      ]
    },
    {
      "cell_type": "code",
      "source": [
        "first_name,last_name,full_name= 'Zeeshan','Khattak','Zeeshan khattak'\n",
        "\n",
        "print(first_name,last_name,full_name)"
      ],
      "metadata": {
        "colab": {
          "base_uri": "https://localhost:8080/"
        },
        "id": "fPUUnA8F_mYc",
        "outputId": "fdd77df5-fee8-419a-b419-7418ab55c9e8"
      },
      "execution_count": 16,
      "outputs": [
        {
          "output_type": "stream",
          "name": "stdout",
          "text": [
            "Zeeshan Khattak Zeeshan khattak\n"
          ]
        }
      ]
    },
    {
      "cell_type": "markdown",
      "source": [
        "input function"
      ],
      "metadata": {
        "id": "Zi6in6OqApjD"
      }
    },
    {
      "cell_type": "code",
      "source": [
        "number1=int(input('Enter the First number '))\n",
        "number2=int(input('Enter the Second number '))\n",
        "sum =number1 + number2\n",
        "print(sum)"
      ],
      "metadata": {
        "colab": {
          "base_uri": "https://localhost:8080/"
        },
        "id": "9En_1k5KAC81",
        "outputId": "55457802-c22f-4705-df69-2fb0e11b7ab0"
      },
      "execution_count": 18,
      "outputs": [
        {
          "output_type": "stream",
          "name": "stdout",
          "text": [
            "Enter the First number 20\n",
            "Enter the Second number 22\n",
            "42\n"
          ]
        }
      ]
    },
    {
      "cell_type": "code",
      "source": [
        "# Changing the data type in python\n",
        "num=8\n",
        "print(float(num))"
      ],
      "metadata": {
        "colab": {
          "base_uri": "https://localhost:8080/"
        },
        "id": "0KnOYp1uA7XI",
        "outputId": "33f0a116-25f1-4415-fe20-8b1689424a0c"
      },
      "execution_count": 19,
      "outputs": [
        {
          "output_type": "stream",
          "name": "stdout",
          "text": [
            "8.0\n"
          ]
        }
      ]
    },
    {
      "cell_type": "markdown",
      "source": [
        "Basic Data type\n",
        "\n",
        "\n",
        "int\n",
        "String\n",
        "float\n",
        "complex\n",
        "Bolean\n",
        "\n",
        "---\n",
        "\n"
      ],
      "metadata": {
        "id": "Ged8X7giCLEP"
      }
    },
    {
      "cell_type": "code",
      "source": [
        "# integer\n",
        "a=8\n",
        "print(a)"
      ],
      "metadata": {
        "colab": {
          "base_uri": "https://localhost:8080/"
        },
        "id": "x3A-Rf9lBqE-",
        "outputId": "a6de85f5-ba38-4f9c-be57-1acb6be4ea7f"
      },
      "execution_count": 20,
      "outputs": [
        {
          "output_type": "stream",
          "name": "stdout",
          "text": [
            "8\n"
          ]
        }
      ]
    },
    {
      "cell_type": "code",
      "source": [
        "type(a)"
      ],
      "metadata": {
        "colab": {
          "base_uri": "https://localhost:8080/"
        },
        "id": "hO3HzmFtGXpS",
        "outputId": "b135daea-ee65-48cb-ace4-eb6717f8ed12"
      },
      "execution_count": 21,
      "outputs": [
        {
          "output_type": "execute_result",
          "data": {
            "text/plain": [
              "int"
            ]
          },
          "metadata": {},
          "execution_count": 21
        }
      ]
    },
    {
      "cell_type": "code",
      "source": [
        "# floating point\n",
        "b=2.3\n",
        "print(b)\n",
        "print(type(b))"
      ],
      "metadata": {
        "colab": {
          "base_uri": "https://localhost:8080/"
        },
        "id": "IVoPfBZHGc6S",
        "outputId": "4534d6cf-a8f6-41c2-bc4e-a1338a637e58"
      },
      "execution_count": 22,
      "outputs": [
        {
          "output_type": "stream",
          "name": "stdout",
          "text": [
            "2.3\n",
            "<class 'float'>\n"
          ]
        }
      ]
    },
    {
      "cell_type": "code",
      "source": [
        "# complex Number\n",
        "c = 1 +3j\n",
        "print(c)\n",
        "print(type(c))"
      ],
      "metadata": {
        "colab": {
          "base_uri": "https://localhost:8080/"
        },
        "id": "DcEF_v-zGoZi",
        "outputId": "8c3a201a-fb06-4738-a430-7f0e53e9d706"
      },
      "execution_count": 24,
      "outputs": [
        {
          "output_type": "stream",
          "name": "stdout",
          "text": [
            "(1+3j)\n",
            "<class 'complex'>\n"
          ]
        }
      ]
    },
    {
      "cell_type": "code",
      "source": [
        "# convert of one data type into another\n",
        "# int to float\n",
        "x=90\n",
        "print(x)\n",
        "print(type(x))"
      ],
      "metadata": {
        "colab": {
          "base_uri": "https://localhost:8080/"
        },
        "id": "xoOKaCsVGviH",
        "outputId": "118a0f1c-1d75-460a-ae66-3a9fb772dcf1"
      },
      "execution_count": 25,
      "outputs": [
        {
          "output_type": "stream",
          "name": "stdout",
          "text": [
            "90\n",
            "<class 'int'>\n"
          ]
        }
      ]
    },
    {
      "cell_type": "code",
      "source": [
        "# conversion\n",
        "y=float(x)\n",
        "print(y)\n",
        "print(type(y))"
      ],
      "metadata": {
        "colab": {
          "base_uri": "https://localhost:8080/"
        },
        "id": "YjcbCeZPHFdF",
        "outputId": "38659a59-3578-4b33-d688-54df957cf655"
      },
      "execution_count": 26,
      "outputs": [
        {
          "output_type": "stream",
          "name": "stdout",
          "text": [
            "90.0\n",
            "<class 'float'>\n"
          ]
        }
      ]
    },
    {
      "cell_type": "markdown",
      "source": [
        "Boolean Variable"
      ],
      "metadata": {
        "id": "-oCpbH0wHhn4"
      }
    },
    {
      "cell_type": "code",
      "source": [
        "a=True\n",
        "print(a)\n",
        "print(type(a))"
      ],
      "metadata": {
        "colab": {
          "base_uri": "https://localhost:8080/"
        },
        "id": "Y2SwBO01HSTq",
        "outputId": "0f24da1b-ab52-4b12-dfcb-715f44271cc6"
      },
      "execution_count": 28,
      "outputs": [
        {
          "output_type": "stream",
          "name": "stdout",
          "text": [
            "True\n",
            "<class 'bool'>\n"
          ]
        }
      ]
    },
    {
      "cell_type": "markdown",
      "source": [
        "string"
      ],
      "metadata": {
        "id": "lFD8ytm7H3vw"
      }
    },
    {
      "cell_type": "code",
      "source": [
        "print('Machine Learning course ')"
      ],
      "metadata": {
        "colab": {
          "base_uri": "https://localhost:8080/"
        },
        "id": "feFStM0LHmbE",
        "outputId": "94209a8f-9bbd-4abb-f502-6628abedcc21"
      },
      "execution_count": 29,
      "outputs": [
        {
          "output_type": "stream",
          "name": "stdout",
          "text": [
            "Machine Learning course \n"
          ]
        }
      ]
    },
    {
      "cell_type": "code",
      "source": [
        "my_str= 'Zeeshan Khattak'\n",
        "print(my_str)\n",
        "print(type(my_str))"
      ],
      "metadata": {
        "colab": {
          "base_uri": "https://localhost:8080/"
        },
        "id": "JdBk2cnzH79P",
        "outputId": "50768c75-22b4-4e84-fe77-b928973f2968"
      },
      "execution_count": 30,
      "outputs": [
        {
          "output_type": "stream",
          "name": "stdout",
          "text": [
            "Zeeshan Khattak\n",
            "<class 'str'>\n"
          ]
        }
      ]
    },
    {
      "cell_type": "code",
      "source": [
        "print(my_str*5)"
      ],
      "metadata": {
        "colab": {
          "base_uri": "https://localhost:8080/"
        },
        "id": "jb9g-pH8IJkn",
        "outputId": "af0c1f13-c84a-4fa3-9343-8440471803d0"
      },
      "execution_count": 31,
      "outputs": [
        {
          "output_type": "stream",
          "name": "stdout",
          "text": [
            "Zeeshan KhattakZeeshan KhattakZeeshan KhattakZeeshan KhattakZeeshan Khattak\n"
          ]
        }
      ]
    },
    {
      "cell_type": "code",
      "source": [
        "# Slicing\n",
        "print(my_str[1:5])"
      ],
      "metadata": {
        "colab": {
          "base_uri": "https://localhost:8080/"
        },
        "id": "G80ijuO3IPFG",
        "outputId": "d5dcea18-e79d-43d3-8c2b-228b4c57223d"
      },
      "execution_count": 32,
      "outputs": [
        {
          "output_type": "stream",
          "name": "stdout",
          "text": [
            "eesh\n"
          ]
        }
      ]
    },
    {
      "cell_type": "code",
      "source": [
        "# String Concatination\n",
        "word_1='Machine'\n",
        "word_2='Learning'\n",
        "print(word_1+word_2)"
      ],
      "metadata": {
        "colab": {
          "base_uri": "https://localhost:8080/"
        },
        "id": "r0ZHQ2UZIXk3",
        "outputId": "16f5af88-53cd-4d95-d25f-8155020f7541"
      },
      "execution_count": 33,
      "outputs": [
        {
          "output_type": "stream",
          "name": "stdout",
          "text": [
            "MachineLearning\n"
          ]
        }
      ]
    },
    {
      "cell_type": "markdown",
      "source": [
        "List"
      ],
      "metadata": {
        "id": "3FbpXsR9JPJr"
      }
    },
    {
      "cell_type": "code",
      "source": [
        "# list should be included in the Square  brackets\n",
        "my_list=[0,10.3,'Zeeshan',True,1+3j] # list can have multiple data types\n",
        "print(my_list)\n",
        "print(type(my_list))"
      ],
      "metadata": {
        "colab": {
          "base_uri": "https://localhost:8080/"
        },
        "id": "c_ZNq5aTI4oM",
        "outputId": "f5abb541-4427-4755-9a67-ca044e75d591"
      },
      "execution_count": 37,
      "outputs": [
        {
          "output_type": "stream",
          "name": "stdout",
          "text": [
            "[0, 10.3, 'Zeeshan', True, (1+3j)]\n",
            "<class 'list'>\n"
          ]
        }
      ]
    },
    {
      "cell_type": "code",
      "source": [
        "# List are mutable its can be change once its created\n",
        "#add elemnet to list\n",
        "my_list=[0,10.3,'Zeeshan',True,1+3j]\n",
        "my_list.append(8)\n",
        "print(my_list)"
      ],
      "metadata": {
        "colab": {
          "base_uri": "https://localhost:8080/"
        },
        "id": "P1dtMNklJgZL",
        "outputId": "e715f5db-23c2-4752-a928-cc456bea55b4"
      },
      "execution_count": 38,
      "outputs": [
        {
          "output_type": "stream",
          "name": "stdout",
          "text": [
            "[0, 10.3, 'Zeeshan', True, (1+3j), 8]\n"
          ]
        }
      ]
    },
    {
      "cell_type": "code",
      "source": [
        "#print elemements using their index\n",
        "print(my_list[0])"
      ],
      "metadata": {
        "colab": {
          "base_uri": "https://localhost:8080/"
        },
        "id": "8eVU8jyPKHGg",
        "outputId": "cd745ca3-affb-46d9-d0c0-0ea25983b600"
      },
      "execution_count": 41,
      "outputs": [
        {
          "output_type": "stream",
          "name": "stdout",
          "text": [
            "0\n"
          ]
        }
      ]
    },
    {
      "cell_type": "code",
      "source": [
        "# list allow Dublicate values but Set no\n",
        "list_1=[1,2,3,3,4,5]\n",
        "print(list_1)"
      ],
      "metadata": {
        "colab": {
          "base_uri": "https://localhost:8080/"
        },
        "id": "7F5SN5vxKXqq",
        "outputId": "9c980790-00e7-4b73-dc8f-8f6ab27d1575"
      },
      "execution_count": 44,
      "outputs": [
        {
          "output_type": "stream",
          "name": "stdout",
          "text": [
            "[1, 2, 3, 3, 4, 5]\n"
          ]
        }
      ]
    },
    {
      "cell_type": "code",
      "source": [
        "print(len(my_list))"
      ],
      "metadata": {
        "colab": {
          "base_uri": "https://localhost:8080/"
        },
        "id": "00LEVFHFL1Po",
        "outputId": "47261be1-1668-4a05-83d6-83522828c297"
      },
      "execution_count": 47,
      "outputs": [
        {
          "output_type": "stream",
          "name": "stdout",
          "text": [
            "6\n"
          ]
        }
      ]
    },
    {
      "cell_type": "code",
      "source": [],
      "metadata": {
        "id": "mwG5N6FnQNUe"
      },
      "execution_count": null,
      "outputs": []
    },
    {
      "cell_type": "markdown",
      "source": [
        "Tuple"
      ],
      "metadata": {
        "id": "XbUUotMaTvTT"
      }
    },
    {
      "cell_type": "code",
      "source": [
        "# immuatble data type ,you can not change\n",
        "tuple_1=(1,2,3,4)\n",
        "print(tuple_1)\n",
        "print(type(tuple_1))"
      ],
      "metadata": {
        "colab": {
          "base_uri": "https://localhost:8080/"
        },
        "id": "7zvw2eK3TwbF",
        "outputId": "541ef911-afea-4d82-a539-db2ebcaaa843"
      },
      "execution_count": 50,
      "outputs": [
        {
          "output_type": "stream",
          "name": "stdout",
          "text": [
            "(1, 2, 3, 4)\n",
            "<class 'tuple'>\n"
          ]
        }
      ]
    },
    {
      "cell_type": "code",
      "source": [
        "## tuple allow multiple data type\n",
        "tuple_1=('machine learning',3,2.4)\n",
        "print(tuple_1)"
      ],
      "metadata": {
        "colab": {
          "base_uri": "https://localhost:8080/"
        },
        "id": "mKifzcIoT4PZ",
        "outputId": "5d8a0519-7a53-46ae-c71a-22d6a0ed212c"
      },
      "execution_count": 52,
      "outputs": [
        {
          "output_type": "stream",
          "name": "stdout",
          "text": [
            "('machine learning', 3, 2.4)\n"
          ]
        }
      ]
    },
    {
      "cell_type": "code",
      "source": [
        "# converting list into a tuple\n",
        "my_list=[0,2,4,5]\n",
        "print(my_list)\n",
        "print(type(my_list))\n",
        "\n",
        "my_tup=tuple(my_list)\n",
        "print(my_tup)\n",
        "print(type(my_tup))"
      ],
      "metadata": {
        "colab": {
          "base_uri": "https://localhost:8080/"
        },
        "id": "VVp_mjOzUWc_",
        "outputId": "6c81e8bd-b43c-4e10-e7e3-b76c28137b4a"
      },
      "execution_count": 58,
      "outputs": [
        {
          "output_type": "stream",
          "name": "stdout",
          "text": [
            "[0, 2, 4, 5]\n",
            "<class 'list'>\n",
            "(0, 2, 4, 5)\n",
            "<class 'tuple'>\n"
          ]
        }
      ]
    },
    {
      "cell_type": "markdown",
      "source": [
        "Set"
      ],
      "metadata": {
        "id": "69KHnOWoVL9N"
      }
    },
    {
      "cell_type": "code",
      "source": [
        "# Set does not  support indexing and dublicate\n",
        "my_set={1,2,3,4,3}\n",
        "print(my_set)\n",
        "print(type(my_set))"
      ],
      "metadata": {
        "colab": {
          "base_uri": "https://localhost:8080/"
        },
        "id": "ELAn4b2gUzZJ",
        "outputId": "0a5d49f0-c0d6-4389-bb8a-adf1e6ff55b2"
      },
      "execution_count": 59,
      "outputs": [
        {
          "output_type": "stream",
          "name": "stdout",
          "text": [
            "{1, 2, 3, 4}\n",
            "<class 'set'>\n"
          ]
        }
      ]
    },
    {
      "cell_type": "code",
      "source": [
        "# convert List into Set\n",
        "my_list=[1,2,3,4,4]\n",
        "print(my_list)\n",
        "print(type(my_list))\n",
        "\n",
        "my_set=set(my_list)\n",
        "print(my_set)\n",
        "print(type(my_set))"
      ],
      "metadata": {
        "colab": {
          "base_uri": "https://localhost:8080/"
        },
        "id": "gpVekM-2VvkN",
        "outputId": "aa5793f6-6e8a-44b0-fa65-7f9b1d5baa41"
      },
      "execution_count": 62,
      "outputs": [
        {
          "output_type": "stream",
          "name": "stdout",
          "text": [
            "[1, 2, 3, 4, 4]\n",
            "<class 'list'>\n",
            "{1, 2, 3, 4}\n",
            "<class 'set'>\n"
          ]
        }
      ]
    },
    {
      "cell_type": "markdown",
      "source": [],
      "metadata": {
        "id": "xXSwNGqsWkrJ"
      }
    },
    {
      "cell_type": "markdown",
      "source": [
        "Dictionary:\n",
        "\n",
        "\n",
        "key Value pairs\n"
      ],
      "metadata": {
        "id": "wlpB0-NRWmuI"
      }
    },
    {
      "cell_type": "code",
      "source": [
        "my_dic= {\n",
        "    'name' :'Zeeshan',\n",
        "    'Age':22,\n",
        "    'position':'Data Scientist'\n",
        "\n",
        "}\n",
        "\n",
        "print(my_dic)\n",
        "print(type(my_dic))\n"
      ],
      "metadata": {
        "colab": {
          "base_uri": "https://localhost:8080/"
        },
        "id": "soxUycHdWHxZ",
        "outputId": "eab8081e-7fe8-4a7a-e6d6-d7822fef6112"
      },
      "execution_count": 68,
      "outputs": [
        {
          "output_type": "stream",
          "name": "stdout",
          "text": [
            "{'name': 'Zeeshan', 'Age': 22, 'position': 'Data Scientist'}\n",
            "<class 'dict'>\n",
            "<built-in method values of dict object at 0x7a46f5aa0e00>\n"
          ]
        }
      ]
    },
    {
      "cell_type": "code",
      "source": [],
      "metadata": {
        "colab": {
          "base_uri": "https://localhost:8080/"
        },
        "id": "mXE1wr9sXB4-",
        "outputId": "a758463f-179c-4718-acbc-f6cc9219be8c"
      },
      "execution_count": 67,
      "outputs": [
        {
          "output_type": "stream",
          "name": "stdout",
          "text": [
            "<built-in method values of dict object at 0x7a46f5c67100>\n"
          ]
        }
      ]
    },
    {
      "cell_type": "markdown",
      "source": [
        "Operator in python:\n"
      ],
      "metadata": {
        "id": "grgRXi6fZfI3"
      }
    },
    {
      "cell_type": "code",
      "source": [
        "#Arithmatic operator\n",
        "a=10\n",
        "b=20\n",
        "print(a+b)\n",
        "print(a-b)\n",
        "print(a*b)\n",
        "print(a/b)\n",
        "print(a//b)\n",
        "print(a%b)"
      ],
      "metadata": {
        "colab": {
          "base_uri": "https://localhost:8080/"
        },
        "id": "3JW4o3Y2XME0",
        "outputId": "79723d61-67ea-44df-e5fb-46bd0a60eb72"
      },
      "execution_count": 69,
      "outputs": [
        {
          "output_type": "stream",
          "name": "stdout",
          "text": [
            "30\n",
            "-10\n",
            "200\n",
            "0.5\n",
            "0\n",
            "10\n"
          ]
        }
      ]
    },
    {
      "cell_type": "code",
      "source": [
        "# Assigment operator\n",
        "a= 5\n",
        "print(a)"
      ],
      "metadata": {
        "colab": {
          "base_uri": "https://localhost:8080/"
        },
        "id": "Itbtv5koZ2E-",
        "outputId": "cd0813e3-0631-49ce-a930-f6ff2b20432d"
      },
      "execution_count": 70,
      "outputs": [
        {
          "output_type": "stream",
          "name": "stdout",
          "text": [
            "5\n"
          ]
        }
      ]
    },
    {
      "cell_type": "code",
      "source": [
        "a+=8\n",
        "print(a)"
      ],
      "metadata": {
        "colab": {
          "base_uri": "https://localhost:8080/"
        },
        "id": "Wgy-0jATaDwS",
        "outputId": "2a3d1929-e01f-403d-974b-e7f90d516c48"
      },
      "execution_count": 71,
      "outputs": [
        {
          "output_type": "stream",
          "name": "stdout",
          "text": [
            "13\n"
          ]
        }
      ]
    },
    {
      "cell_type": "code",
      "source": [
        "# Comparison operator\n",
        "a=4\n",
        "b=9\n",
        "print(a<b)"
      ],
      "metadata": {
        "colab": {
          "base_uri": "https://localhost:8080/"
        },
        "id": "7pk2tuVHaIP2",
        "outputId": "1a71848e-543d-4adc-d113-28fb5842fd11"
      },
      "execution_count": 72,
      "outputs": [
        {
          "output_type": "stream",
          "name": "stdout",
          "text": [
            "True\n"
          ]
        }
      ]
    },
    {
      "cell_type": "code",
      "source": [
        "# Logical operator  and or not\n",
        "a=10\n",
        "print(a>20 and a>6)"
      ],
      "metadata": {
        "colab": {
          "base_uri": "https://localhost:8080/"
        },
        "id": "ZaBekjBKaUoH",
        "outputId": "b2086a4c-a729-4440-cfdb-e25ac9616fd4"
      },
      "execution_count": 73,
      "outputs": [
        {
          "output_type": "stream",
          "name": "stdout",
          "text": [
            "False\n"
          ]
        }
      ]
    },
    {
      "cell_type": "code",
      "source": [
        "# identity operator  is and is not\n",
        "x=5\n",
        "y=5\n",
        "print(x is y)\n"
      ],
      "metadata": {
        "colab": {
          "base_uri": "https://localhost:8080/"
        },
        "id": "K3jDithyarnk",
        "outputId": "39f38ae2-49a3-4f2e-da55-095fbc2a7da6"
      },
      "execution_count": 74,
      "outputs": [
        {
          "output_type": "stream",
          "name": "stdout",
          "text": [
            "True\n"
          ]
        }
      ]
    },
    {
      "cell_type": "code",
      "source": [
        "print(x is not y)"
      ],
      "metadata": {
        "colab": {
          "base_uri": "https://localhost:8080/"
        },
        "id": "zxFp3RNTbKYQ",
        "outputId": "9b9a74b8-293c-4fc9-cf9d-460c283c709d"
      },
      "execution_count": 75,
      "outputs": [
        {
          "output_type": "stream",
          "name": "stdout",
          "text": [
            "False\n"
          ]
        }
      ]
    },
    {
      "cell_type": "code",
      "source": [
        "# membership operator : in not in\n",
        "a=8\n",
        "b=9\n",
        "c=[1,2,3,4,5]\n",
        "print(a and b in c)\n",
        "print(a and b not in c)\n"
      ],
      "metadata": {
        "colab": {
          "base_uri": "https://localhost:8080/"
        },
        "id": "MbD8PhCMbQiN",
        "outputId": "f15bfa23-7e19-47c8-c759-c1f7045227e9"
      },
      "execution_count": 77,
      "outputs": [
        {
          "output_type": "stream",
          "name": "stdout",
          "text": [
            "False\n",
            "True\n"
          ]
        }
      ]
    },
    {
      "cell_type": "markdown",
      "source": [
        "If Else Statment"
      ],
      "metadata": {
        "id": "lHDXB1OXdb-4"
      }
    },
    {
      "cell_type": "code",
      "source": [
        "a =10\n",
        "b=90\n",
        "\n",
        "if a>b:\n",
        "  print('a is greater number ')\n",
        "else :\n",
        "  print('b is greater number ')"
      ],
      "metadata": {
        "colab": {
          "base_uri": "https://localhost:8080/"
        },
        "id": "DARGpbrSdBqm",
        "outputId": "697cbeed-32a5-4be4-895e-9e97554d527e"
      },
      "execution_count": 78,
      "outputs": [
        {
          "output_type": "stream",
          "name": "stdout",
          "text": [
            "b is greater number \n"
          ]
        }
      ]
    },
    {
      "cell_type": "code",
      "source": [
        "a = int(input('Enter the first number '))\n",
        "b =int(input('Enter the Second number '))\n",
        "if a>b:\n",
        "  print('first number is greater number ')\n",
        "else :\n",
        "  print('second number  is greater number ')\n"
      ],
      "metadata": {
        "colab": {
          "base_uri": "https://localhost:8080/"
        },
        "id": "6vUKWJOHd3HH",
        "outputId": "f45fc2da-028b-4353-a878-74b19152b1dc"
      },
      "execution_count": 80,
      "outputs": [
        {
          "output_type": "stream",
          "name": "stdout",
          "text": [
            "Enter the first number 45\n",
            "Enter the Second number 90\n",
            "second number  is greater number \n"
          ]
        }
      ]
    },
    {
      "cell_type": "markdown",
      "source": [
        "if elif else statment"
      ],
      "metadata": {
        "id": "DNVsRF1Xeg17"
      }
    },
    {
      "cell_type": "code",
      "source": [
        "a=10\n",
        "b=30\n",
        "c=100\n",
        "if(a>b and a>c):\n",
        "  print('a is the greates number ')\n",
        "elif(b>a and b>c):\n",
        "  print('b is the greatest number ')\n",
        "else:\n",
        "  print('c is the greatest number ')"
      ],
      "metadata": {
        "colab": {
          "base_uri": "https://localhost:8080/"
        },
        "id": "hnsUJTToeLak",
        "outputId": "63143105-1c57-4d44-87e7-c098401125cc"
      },
      "execution_count": 82,
      "outputs": [
        {
          "output_type": "stream",
          "name": "stdout",
          "text": [
            "c is the greatest number \n"
          ]
        }
      ]
    },
    {
      "cell_type": "code",
      "source": [],
      "metadata": {
        "id": "F4nxTJ_Nfjt_"
      },
      "execution_count": null,
      "outputs": []
    },
    {
      "cell_type": "markdown",
      "source": [
        "For loop"
      ],
      "metadata": {
        "id": "yq1vqZuSf7Mz"
      }
    },
    {
      "cell_type": "code",
      "source": [
        "for i in range(5):\n",
        "  laptop_price=int(input('enter the price of laptop'))"
      ],
      "metadata": {
        "colab": {
          "base_uri": "https://localhost:8080/"
        },
        "id": "xAfeYxAOf_DG",
        "outputId": "0167585e-ef0f-4204-8388-3b24da8fd5cf"
      },
      "execution_count": 83,
      "outputs": [
        {
          "name": "stdout",
          "output_type": "stream",
          "text": [
            "enter the price of laptop33000\n",
            "enter the price of laptop33310\n",
            "enter the price of laptop40000\n",
            "enter the price of laptop90000\n",
            "enter the price of laptop342444\n"
          ]
        }
      ]
    },
    {
      "cell_type": "code",
      "source": [
        "names=['Zeeshan','khan','ahmad','maryam','nazra']\n",
        "for i in names:\n",
        "  print(i)"
      ],
      "metadata": {
        "colab": {
          "base_uri": "https://localhost:8080/"
        },
        "id": "N-S582GEgo82",
        "outputId": "7b6dbf47-05c6-4494-f86a-d2b304e1cf83"
      },
      "execution_count": 84,
      "outputs": [
        {
          "output_type": "stream",
          "name": "stdout",
          "text": [
            "Zeeshan\n",
            "khan\n",
            "ahmad\n",
            "maryam\n",
            "nazra\n"
          ]
        }
      ]
    },
    {
      "cell_type": "markdown",
      "source": [
        "Function:\n",
        "\n",
        "\n",
        "Function is a block of code that  can be reused in a program ."
      ],
      "metadata": {
        "id": "0UTgjvlfpnTy"
      }
    },
    {
      "cell_type": "code",
      "source": [],
      "metadata": {
        "id": "bF3kkR7khIJH"
      },
      "execution_count": null,
      "outputs": []
    }
  ]
}